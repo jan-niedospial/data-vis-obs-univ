{
 "cells": [
  {
   "cell_type": "markdown",
   "id": "6a0880c5-7613-4254-a41e-03e01a0cfe2a",
   "metadata": {},
   "source": [
    "# Data visualization of the Observable Universe"
   ]
  },
  {
   "cell_type": "markdown",
   "id": "50166a29-ab90-4696-8c1b-d154f7497df7",
   "metadata": {},
   "source": [
    "In this article, I will make a gentle introduction to making data visualizations on the biggest of scales. Making sense of scientific data you are unfamiliar with teaches the importance of domain knowledge very quickly. Astronomy and cosmology are no exception. Because of that, I will focus more on the theoretical basics than on explaining the Python minutiae. Still, the code is there, and the complete notebook is on my GitHub[1]."
   ]
  },
  {
   "cell_type": "markdown",
   "id": "869f9523-c6a1-459f-85f9-1046ed8138b4",
   "metadata": {},
   "source": [
    "Reference plots are at the very end of the notebook."
   ]
  },
  {
   "cell_type": "markdown",
   "id": "671459d7-aaf7-4cd5-a9a0-cb994a1811e6",
   "metadata": {},
   "source": [
    "## The data"
   ]
  },
  {
   "cell_type": "markdown",
   "id": "cee015cf-0179-427b-8c14-725ebe66dcf6",
   "metadata": {},
   "source": [
    "You may have heard that the estimated number of galaxies in the observable universe is around two trillion (or several hundred billion, based on the data from the New Horizons). The first thing that is quite important to mention, is that we do not have data for all those galaxies. Only a tiny fraction of those estimates have a data point in astronomy databases. And even less has the location and distance information. The Euclid mission, launched on the 1st of July 2023, will change a lot in this field[2].\n",
    "\n",
    "For this article's purposes, we will get the data from Hyperleda, an extragalactic database containing the distance information for over 2.8 million individual galaxies.\n",
    "\n",
    "We can download the data from the HyperLeda website[3] using a simple SQL query:"
   ]
  },
  {
   "cell_type": "raw",
   "id": "e7869611-02f7-4ee4-8e2c-367e4195fe52",
   "metadata": {},
   "source": [
    "SELECT\n",
    "*\n",
    "FROM\n",
    "meandata\n",
    "WHERE\n",
    "v IS NOT NULL \n",
    "AND modbest IS NOT NULL \n",
    "AND (objtype = 'G' OR objtype = 'Q')"
   ]
  },
  {
   "cell_type": "markdown",
   "id": "696b8349-992b-480d-acb4-831e68189512",
   "metadata": {},
   "source": [
    "- v — velocity — will be used to calculate the redshifts,\n",
    "- modbest — distance modulus — together with redshifts will be used to calculate the distances,\n",
    "- objtype — ‘Q’ stands for quasars, distant and very bright galaxies, and ‘G’ for more generic, confirmed galaxies. For simplicity, we want only individual galaxies.\n",
    "\n",
    "We are getting all the columns because we will use them in the future. Here, we will need only the coordinates and the distance. In HyperLeda, the data that has modbest and velocity will always have the coordinates.\n",
    "\n",
    "We can now load the data."
   ]
  },
  {
   "cell_type": "markdown",
   "id": "f07a74b8-0d97-4a21-a9b0-77c0fdf26610",
   "metadata": {},
   "source": [
    "### Loading the data"
   ]
  },
  {
   "cell_type": "markdown",
   "id": "5cfc8770-bfd6-47a1-bb26-354bd4d1af22",
   "metadata": {},
   "source": [
    "The HyperLeda outputs aren't the friendliest of them all, so to open it, we will use the following code first to check the file:"
   ]
  },
  {
   "cell_type": "code",
   "execution_count": null,
   "id": "f9a62cde-0924-4b2d-bd83-2663607181e8",
   "metadata": {},
   "outputs": [],
   "source": [
    "import pandas as pd\n",
    "import numpy as np"
   ]
  },
  {
   "cell_type": "code",
   "execution_count": null,
   "id": "e3b91904-ace2-4aff-a889-3193d1db804c",
   "metadata": {},
   "outputs": [],
   "source": [
    "%%time\n",
    "import csv\n",
    "\n",
    "with open(\n",
    "    r'./data/HyperLeda_meandata_1686391913.csv', \n",
    "    newline='',\n",
    ") as f:\n",
    "    head = [next(f) for x in range(95)]\n",
    "    reader = csv.reader(head)\n",
    "    data = list(reader)\n",
    "    \n",
    "for i, v in enumerate(data):\n",
    "    print(i, v)"
   ]
  },
  {
   "cell_type": "markdown",
   "id": "8ad8eb68-11e4-4886-90e6-2b904214eda1",
   "metadata": {},
   "source": [
    "We can see that the header is in line 89, and the data starts in line 91."
   ]
  },
  {
   "cell_type": "markdown",
   "id": "bec09801-2dad-4b40-9624-9eac72d86a8a",
   "metadata": {},
   "source": [
    "Let's now open the data with pandas:"
   ]
  },
  {
   "cell_type": "code",
   "execution_count": null,
   "id": "88a44f9b-0e0b-43cf-a399-756b10e69d8e",
   "metadata": {},
   "outputs": [],
   "source": [
    "data = pd.read_csv(\n",
    "    './data/HyperLeda_meandata_1686391913.csv', \n",
    "    header=89, \n",
    "    skiprows=[90], \n",
    "    low_memory=False,\n",
    ")"
   ]
  },
  {
   "cell_type": "code",
   "execution_count": null,
   "id": "90c09cc5-1264-4450-b95c-d2f25c8c97e6",
   "metadata": {},
   "outputs": [],
   "source": [
    "data = data.iloc[:-5, :].copy() # Standard 5 rows report at the end\n",
    "data['pgc'] = data['pgc'].astype(int)"
   ]
  },
  {
   "cell_type": "markdown",
   "id": "8f85283f-87f2-4241-bf0e-c1ca11bc94d4",
   "metadata": {},
   "source": [
    "Column objtype has some unexpected spaces. Those need to go."
   ]
  },
  {
   "cell_type": "code",
   "execution_count": null,
   "id": "8c8c1418-9070-47b0-baf2-fad4053b3eca",
   "metadata": {},
   "outputs": [],
   "source": [
    "data.objtype = data.objtype.str.strip()"
   ]
  },
  {
   "cell_type": "code",
   "execution_count": null,
   "id": "529ef9af-0b70-41c8-aac5-974ba4dd74f8",
   "metadata": {},
   "outputs": [],
   "source": [
    "data['objtype'].value_counts()"
   ]
  },
  {
   "cell_type": "markdown",
   "id": "8055d1bc-8a4a-4605-85a4-cda68b93b430",
   "metadata": {},
   "source": [
    "Generic confirmed galaxies are the vast majority of our data."
   ]
  },
  {
   "cell_type": "code",
   "execution_count": null,
   "id": "6b3c9dfa-c0f9-43e5-8dab-1b14becd8724",
   "metadata": {},
   "outputs": [],
   "source": [
    "print(data.shape)"
   ]
  },
  {
   "cell_type": "markdown",
   "id": "841788c6-30b7-4af8-bd6d-499685f48317",
   "metadata": {},
   "source": [
    "## Cosmology model"
   ]
  },
  {
   "cell_type": "markdown",
   "id": "f4ed4245-d9f0-40f1-8ab6-e1f84e60db28",
   "metadata": {},
   "source": [
    "Let's start with the important question:"
   ]
  },
  {
   "cell_type": "markdown",
   "id": "456da741-79dc-4fb0-b377-b97796c9bd37",
   "metadata": {},
   "source": [
    "### Why bother with cosmology at all?"
   ]
  },
  {
   "cell_type": "markdown",
   "id": "ceef0f12-f592-40be-8cec-93398fce3750",
   "metadata": {},
   "source": [
    "There is a way to spatially visualize that data more simply than we are going to. If you want a cosmology-independent visualization, you can use velocity, or redshift, as a measure of distance. You can even use it to get Euclidean coordinates for 3D plots. The results in terms of distribution will be very similar, except for the units. You won’t have a unit of distance, instead — the radial velocity or redshift. Some astronomers visualize the data this way.\n",
    "\n",
    "You will also sometimes find the distance calculated by dividing the velocity by the Hubble constant, something along the lines of:"
   ]
  },
  {
   "cell_type": "raw",
   "id": "d57c27bd-2e77-4eed-8329-b4a960778b52",
   "metadata": {},
   "source": [
    "data['d'] = (data['v'] / cosmo.H(0)) * 1000000"
   ]
  },
  {
   "cell_type": "markdown",
   "id": "6013ccfa-98ad-463e-b873-32f8a5365aea",
   "metadata": {},
   "source": [
    "where:\n",
    "\n",
    "- v is velocity,\n",
    "- cosmo.H(0) is Hubble constant,\n",
    "- 1000000 is a multiplier to get megaparsecs.\n",
    "\n",
    "With this, again, the relative coordinates look similar, but the units of distance would be all wrong. This formula is an approximation and only accurate for relatively close galaxies where the redshift is small. For more distant galaxies, the expansion of the Universe has not been constant over time, and this formula does not account for that. As a result, you find yourself with the radius of the observable universe over twice bigger than current estimations.\n",
    "\n",
    "We want to make the results as simple to understand as possible, and the scales right. To do that, we will need cosmology."
   ]
  },
  {
   "cell_type": "markdown",
   "id": "cee67686-5661-4589-8911-24e583836b86",
   "metadata": {},
   "source": [
    "### Choosing cosmology parameters"
   ]
  },
  {
   "cell_type": "markdown",
   "id": "4c38fe42-6596-4c18-a78a-bfa226382f71",
   "metadata": {},
   "source": [
    "We will focus on the currently most widely accepted cosmology model: Lambda Cold Dark Matter, from the family of models called Friedmann-Lemaitre-Robertson-Walker (FLRW) cosmologies. LambdaCDM is a flat, accelerating universe, with a dark energy density parameter of 0.73. This model represents the closest to what we can call the state of our knowledge today. However, there are still things that need to be settled in this model and one of them is the value of the Hubble constant — the rate of the expansion of the Universe."
   ]
  },
  {
   "cell_type": "markdown",
   "id": "e6a89e9a-a267-4344-b3a8-4162b1917c19",
   "metadata": {},
   "source": [
    "### Why Hubble tension is a problem"
   ]
  },
  {
   "cell_type": "markdown",
   "id": "eee4b15b-8599-429f-99ab-712f7dd3e85b",
   "metadata": {},
   "source": [
    "There are two main ways of measuring the expansion rate:\n",
    "\n",
    "- Standard candles — type 1a supernovae, which occur in binary systems where one star is a white dwarf. They are assumed to have consistent peak luminosity that can be used to measure distance. It’s relatively free from the cosmological model assumptions. So-called ‘late universe’ measurement of the Hubble constant.\n",
    "- CMB — measurements of the rate of the expansion in the Cosmic Microwave Background. Heavily reliant on LambdaCDM model. So-called “early universe” techniques, they do account for the change in the expansion rate since the early universe.\n",
    "\n",
    "The most accurate of each of those two types of measurements of the Hubble constant is 73 km/Mpc and 67.7 km/Mpc respectively. While the difference of 5.3 kilometers per 3.26 million lightyears (one megaparsec) doesn’t seem that much, it affects the distance measurement. If we compare:"
   ]
  },
  {
   "cell_type": "markdown",
   "id": "304f4be8-ce6b-4576-ae13-1ddeef53f2cb",
   "metadata": {},
   "source": [
    "candles-vs-cmb.png (with images, notebook is to big to display on GitHub. Check reference plots at the end of the notebook.)"
   ]
  },
  {
   "cell_type": "markdown",
   "id": "fb2db8a3-d1ac-4cd9-ad8c-8647d77cdf4e",
   "metadata": {
    "tags": []
   },
   "source": [
    "Hubble tension (by the author)"
   ]
  },
  {
   "cell_type": "markdown",
   "id": "445ada3f-4330-4ed5-9b1d-16d7dfa6801b",
   "metadata": {},
   "source": [
    "On redshift 2, there is already over 1 billion lightyears difference in comoving distance and over 700 million years of light travel time.\n",
    "\n",
    "The problem is, we don’t know which of those is correct (if any). This discrepancy is called Hubble tension[4] and has been hailed as a crisis in cosmology[5].\n",
    "\n",
    "For the sake of this exercise, we will go with the value in the middle, used in some calculations in HyperLeda."
   ]
  },
  {
   "cell_type": "markdown",
   "id": "eb279289-aee1-4025-8290-f8c54f41fb0f",
   "metadata": {},
   "source": [
    "### Python libraries"
   ]
  },
  {
   "cell_type": "markdown",
   "id": "50381a6f-6d37-4761-b016-f80539f7515b",
   "metadata": {},
   "source": [
    "To set up the cosmology we will use Astropy. This library will also help us with coordinates, units, and lots of calculations. It has specific table functions based on NumPy, in a way similar to Pandas. The built-in functions are slightly different from what I am used to, but thanks to methods ‘from_pandas’ and ‘to_pandas’, if you are careful, you can move between them seamlessly."
   ]
  },
  {
   "cell_type": "code",
   "execution_count": null,
   "id": "935ab227-20e2-436d-bde2-793ba2ba82d0",
   "metadata": {},
   "outputs": [],
   "source": [
    "import astropy\n",
    "\n",
    "import astropy.coordinates as coord\n",
    "import astropy.units as u\n",
    "from astropy.io import ascii\n",
    "from astropy.coordinates import SkyCoord\n",
    "\n",
    "from astropy import constants as const # For speed of light\n",
    "\n",
    "from astropy.cosmology import FlatLambdaCDM"
   ]
  },
  {
   "cell_type": "markdown",
   "id": "f510e96b-3241-41f2-b565-68030189766e",
   "metadata": {},
   "source": [
    "Instead of importing built-in cosmology[6], we will set the cosmology parameters directly. We will base them on the parameters used to derive distance modulus[7] in the HyperLeda database, and name it ‘HyperLeda’:"
   ]
  },
  {
   "cell_type": "code",
   "execution_count": null,
   "id": "2b33ff91-e935-4cf6-a2df-c740efe6a872",
   "metadata": {},
   "outputs": [],
   "source": [
    "cosmo = FlatLambdaCDM(name='HyperLeda', H0=70, Om0=0.27)\n",
    "cosmo"
   ]
  },
  {
   "cell_type": "markdown",
   "id": "6f8f9d35-91a9-4189-aa1d-45d4fdcaacbd",
   "metadata": {},
   "source": [
    "The cosmology model we chose is LambdaCDM, with a Hubble constant of 70 km per megaparsec (3.26 million lightyears)."
   ]
  },
  {
   "cell_type": "markdown",
   "id": "220ffbd0-5a67-4863-ab5c-088afde67e65",
   "metadata": {},
   "source": [
    "## Coordinates"
   ]
  },
  {
   "cell_type": "markdown",
   "id": "c4c737a7-4a3e-495d-a187-4f7ab3d0afd2",
   "metadata": {},
   "source": [
    "### Choosing the perspective of a sphere"
   ]
  },
  {
   "cell_type": "markdown",
   "id": "2fe74c97-b4f7-46d9-a0c2-da331e80a9aa",
   "metadata": {},
   "source": [
    "When visualizing astronomical objects, we can do it in two different ways:\n",
    "\n",
    "- The view from the center of the sphere — we look up from the rotating earth and see the celestial sphere. Then we try to put this sphere on a 2D surface, which is impossible without distorting the shapes. To minimize the distortion, we can use one of the popular projections, like Aitoff[8], Hammer[9], and Mollweide[10]. Those are from the 19th century, used to represent the surface of the Earth, and adopted to represent the map of the sky. Each of them distorts the image a bit differently.\n",
    "- The view from the ‘outside’, in three dimensions — 3D projection. If we try to visualize not just a slice, but everything we have in the data, the Earth, the center of our observable universe, will be in the middle of the visualization.\n",
    "\n",
    "Hyperleda contains three types of astronomical coordinates:\n",
    "\n",
    "- al2000, de2000 — right ascension and declination (coordinates on the celestial sphere, equivalent of longitude and latitude),\n",
    "- l2, b2 — galactic longitude and latitude (coordinates in galactic frame),\n",
    "- sgl, sgb — super-galactic longitude and latitude (coordinates in super-galactic frame)."
   ]
  },
  {
   "cell_type": "markdown",
   "id": "2f61440a-7b62-476e-9ee9-0441c0b9046d",
   "metadata": {},
   "source": [
    "### Galactic vs supergalactic frame"
   ]
  },
  {
   "cell_type": "markdown",
   "id": "4c94e05c-0f7c-414c-bdc7-b3fa04b25c81",
   "metadata": {},
   "source": [
    "The difference between the galactic and supergalactic frame is the angle and location of the Milky Way galaxy, which obscures other galaxies and is visible as a dark line.\n",
    "\n",
    "In the galactic coordinate system, the Milky Way is positioned horizontally in the middle (galactic plane):"
   ]
  },
  {
   "cell_type": "markdown",
   "id": "e8f5919b-953e-4274-8972-6f369785306c",
   "metadata": {},
   "source": [
    "galactic.png (with images, notebook is to big to display on GitHub. Check reference plots at the end of the notebook.)\n",
    "\n",
    "Galactic frame, with Milky Way as a horizontal dark line in the middle along the ‘equator’ (by the author)"
   ]
  },
  {
   "cell_type": "markdown",
   "id": "25fe260c-db98-4856-94ee-0a5875824805",
   "metadata": {},
   "source": [
    "The supergalactic coordinate system became a thing in the 1950s with the discovery of the supergalactic plane[11]. The supergalactic coordinate system has the Milky Way (called in extra-galactic astronomy “zone of avoidance”[12], something that obscures the view) vertically in the middle. Because of that, it takes much less space in the projection and most galaxies are in less-distorted regions. This allows us to see extra-galactic (super-galactic) structures in greater detail, than in a galactic coordinate system:"
   ]
  },
  {
   "cell_type": "markdown",
   "id": "4de43e79-4f9e-488a-a433-e2ed609b9700",
   "metadata": {},
   "source": [
    "supergalactic.png (with images, notebook is to big to display on GitHub. Check reference plots at the end of the notebook.)\n",
    "\n",
    "Supergalactic frame, with Milky Way obscuring the middle nearly vertical line between the ‘poles’ (by the author)"
   ]
  },
  {
   "cell_type": "markdown",
   "id": "1f373e2f-c61d-46a5-a9a2-116b25482be0",
   "metadata": {},
   "source": [
    "Here we will use Aitoff, an azimuthal map projection, to represent the sky in supergalactic coordinates.\n",
    "\n",
    "While we could make a simplified 2D visualization straight away, we will require 3D coordinates to make a 3D image. And for that we need distance."
   ]
  },
  {
   "cell_type": "markdown",
   "id": "c8dba387-856d-4899-950a-16f8d27146e7",
   "metadata": {},
   "source": [
    "## Distance"
   ]
  },
  {
   "cell_type": "markdown",
   "id": "55757326-4d21-491f-b6a2-20bdc1191b6d",
   "metadata": {},
   "source": [
    "In astronomy, you will rarely encounter the term without a preceding adjective, and when you do, the distance type must be clear from the context. Luminosity distance, comoving distance, and look-back distance (just to name a few) are very different things and used for different purposes. Just to demonstrate the difference between the three for a redshift of 7:"
   ]
  },
  {
   "cell_type": "raw",
   "id": "c9d44a42-c9bf-4ec1-b49f-af6de5ba782d",
   "metadata": {},
   "source": [
    "Lookback distance: 13.074974839369068 Glyr\n",
    "Comoving distance: 29.178068498842414 Glyr\n",
    "Luminosity distance: 233.4245479907393 Glyr"
   ]
  },
  {
   "cell_type": "markdown",
   "id": "bae6af95-6ff8-481a-a95f-eaa0b3319c4a",
   "metadata": {},
   "source": [
    "Luminosity distance in the Milky Way is a solid approximation of the distance in Euclidean space. However, in extra-galactic distances, it’s affected by redshift, time dilation, and space curvature and doesn’t mean much. This luminosity distance for Redshift 7 would be over 5 times higher than the estimated radius of the observable universe. We are going to largely ignore luminosity distance.\n",
    "\n",
    "Lookback distance (or light travel distance) is the light travel time, which means the light from a galaxy at redshift 7, that we see now, left this galaxy 13.07 billion years ago.\n",
    "\n",
    "Comoving distance is equal to the proper distance at the current age of the Universe but will differ in the past and the future. It is called comoving because objects move along with the expansion of the universe. Simply put, it is a distance between the objects right now. If in light years, it is a distance the light would travel from one object to the other if the light is emitted now and the universe doesn’t expand till it reaches the destination.\n",
    "\n",
    "On the biggest of scales, light travel distance is usually much shorter than the comoving distance, because the universe is expanding, and when the light was emitted, the object was much closer to us than it is now[13][14].\n",
    "\n",
    "As a measure of distance in the HyperLeda data, we could use:\n",
    "\n",
    "- v— heliocentric radial velocity, defined as ‘cz’ — redshift multiplied by the speed of light[15],\n",
    "- mod0— distance modulus from distance measurements (redshift-independent)[16],\n",
    "- modbest — distance modulus related to luminosity distance, a weighted average between redshift-independent and redshift-based distance measurements[17].\n",
    "\n",
    "Ideally, we would like to use a redshift-independent distance modulus. However, measuring the distance independently from redshift is not easy and quite time-consuming, which is reflected by the number of observations in our data:"
   ]
  },
  {
   "cell_type": "code",
   "execution_count": null,
   "id": "b8b9dc14-c4d5-4c4d-8a03-9a7bfeb1015b",
   "metadata": {},
   "outputs": [],
   "source": [
    "data['mod0'].notna().sum()"
   ]
  },
  {
   "cell_type": "markdown",
   "id": "ec462efd-718e-46aa-8db9-1d72be9696d6",
   "metadata": {},
   "source": [
    "That’s not too much to work with, so we will leave it alone on the observable universe scale.\n",
    "\n",
    "We are going to use ‘modbest’ as the base of our calculations. But we are also going to need ‘v’ to calculate redshift."
   ]
  },
  {
   "cell_type": "markdown",
   "id": "92dec73e-a120-49b9-b582-21cff7a30478",
   "metadata": {},
   "source": [
    "### Calculating distance"
   ]
  },
  {
   "cell_type": "markdown",
   "id": "cd832e10-dc27-4304-941c-5c2ac45fe824",
   "metadata": {},
   "source": [
    "Now that we have the data initially prepared, we need to do some calculations.\n",
    "\n",
    "First, let’s convert Pandas DataFrame to Astropy QTable:"
   ]
  },
  {
   "cell_type": "code",
   "execution_count": null,
   "id": "aab4a741-4bbe-4be2-9e53-fb8b104a10c7",
   "metadata": {},
   "outputs": [],
   "source": [
    "data = astropy.table.QTable.from_pandas(data)"
   ]
  },
  {
   "cell_type": "markdown",
   "id": "ec8d1a55-1a51-4c14-9aee-21e559cdad97",
   "metadata": {},
   "source": [
    "#### Redshift from v"
   ]
  },
  {
   "cell_type": "markdown",
   "id": "d35856d0-20df-434b-ba50-27d992532b62",
   "metadata": {},
   "source": [
    "As we can see in the Hyperleda docs, velocity is a redshift, multiplied by the speed of light. So let’s get the redshift itself.\n",
    "\n",
    "The speed of light is a constant in astropy (imported as const)."
   ]
  },
  {
   "cell_type": "code",
   "execution_count": null,
   "id": "6de30b67-c148-46f0-ae6d-4e2eae63e7a3",
   "metadata": {},
   "outputs": [],
   "source": [
    "print(const.c)"
   ]
  },
  {
   "cell_type": "markdown",
   "id": "7f46cf7e-2b7e-438d-8cdb-fc73440ba196",
   "metadata": {},
   "source": [
    "As constant c is in m/s, it has to be converted to km/s. With this, we can calculate:"
   ]
  },
  {
   "cell_type": "code",
   "execution_count": null,
   "id": "ad320ed6-1bc9-48ef-bb3a-c85ee62f6139",
   "metadata": {},
   "outputs": [],
   "source": [
    "data['redshift'] = data['v'] / const.c.to('km/s').value"
   ]
  },
  {
   "cell_type": "markdown",
   "id": "22e21df7-2762-4613-8b47-4f0f0763760a",
   "metadata": {},
   "source": [
    "Normally redshift column would simply be called ‘z’, but later we are going to have coordinates ‘x’, ‘y’, and z’, so instead of renaming 3 columns, let’s rename this one.\n",
    "\n",
    "The highest redshift in our data is[18]:"
   ]
  },
  {
   "cell_type": "code",
   "execution_count": null,
   "id": "1023f9c0-d52a-44e6-9766-c9af2ffb5929",
   "metadata": {},
   "outputs": [],
   "source": [
    "data['redshift'].max()"
   ]
  },
  {
   "cell_type": "markdown",
   "id": "50064304-7e6a-45f1-b27a-be326b396d78",
   "metadata": {},
   "source": [
    "Now that we have redshift, we could just calculate the comoving distance straight from the redshift:"
   ]
  },
  {
   "cell_type": "code",
   "execution_count": null,
   "id": "4e542d04-f2c2-4333-bf3c-8dc0b0ffb47c",
   "metadata": {},
   "outputs": [],
   "source": [
    "data['dm'] = cosmo.comoving_distance(data['redshift'])"
   ]
  },
  {
   "cell_type": "markdown",
   "id": "8bd1b486-68de-432d-b38e-5f5f9633f0ca",
   "metadata": {},
   "source": [
    "his would be completely okay in the largest of scales, but it would give us a negative distance for the negative redshift (blueshift) — objects gravitationally bound with the Milky Way. So if you would like to see our local neighborhood, it would be severely distorted.\n",
    "\n",
    "So let’s do it right and use modbest."
   ]
  },
  {
   "cell_type": "markdown",
   "id": "fe0b8a12-74f0-4ced-8d30-76b64c33894b",
   "metadata": {},
   "source": [
    "#### Distance from distance modulus"
   ]
  },
  {
   "cell_type": "markdown",
   "id": "c3d1e998-bd20-41f8-b10c-b7cb6da9ada9",
   "metadata": {},
   "source": [
    "First, we will need to convert the distance modulus, set in magnitude (luminosity) to actual distance (distance modulus is the apparent magnitude — the absolute magnitude — for an object at a given redshift)[19]."
   ]
  },
  {
   "cell_type": "code",
   "execution_count": null,
   "id": "69d6131c-d083-4828-8282-ddc5d2588a2f",
   "metadata": {},
   "outputs": [],
   "source": [
    "data['dl'] = coord.Distance(\n",
    "    distmod=data['modbest'], \n",
    "    unit='Mpc'\n",
    ")\n",
    "# distance_modulus = 5 log(DL) + 25"
   ]
  },
  {
   "cell_type": "markdown",
   "id": "476806fd-c5ef-456e-a564-ca41246481b5",
   "metadata": {},
   "source": [
    "Now that we have our luminosity distance (DL), let´s calculate comoving distance, using the formula:\n",
    "\n",
    "comoving distance DM = DL/(1+z))"
   ]
  },
  {
   "cell_type": "code",
   "execution_count": null,
   "id": "79ec90ff-7e7f-4c51-a905-e5a04ab9824f",
   "metadata": {},
   "outputs": [],
   "source": [
    "data['dm'] = data['dl'] / (1 + data['redshift'])"
   ]
  },
  {
   "cell_type": "markdown",
   "id": "58b71cd1-d02e-425a-8d93-72dd434de5b4",
   "metadata": {},
   "source": [
    "Now that we have a comoving distance, we must decide on the unit — this can be light years, parsecs, or even kilometers. The last one would be a number so big, that it would be almost meaningless. I think the easiest way to represent cosmic distances is in light years. Most people will be familiar with it, and unlike parsec, the light year has some easily identifiable meaning — a distance that light travels in a year. It’s a well-known concept. This familiarity gets a bit shaky when it’s used in an accelerating expanding universe, but still.\n",
    "\n",
    "Light years will be our unit of distance. But as we talk about the entire observable universe, we will add a “giga” prefix to it, meaning billion. That way, we can talk about the size of the Observable Universe in billions of lightyears and represent it neatly with two-digit numbers."
   ]
  },
  {
   "cell_type": "code",
   "execution_count": null,
   "id": "e42a739d-9d57-421a-9626-ca6261a31c13",
   "metadata": {},
   "outputs": [],
   "source": [
    "# Convert Megaparsecs to Giga Light-years\n",
    "data['dm'] = data['dm'].to(u.Glyr)"
   ]
  },
  {
   "cell_type": "markdown",
   "id": "0edbca4f-56a4-4028-81a1-5839ba3507f4",
   "metadata": {},
   "source": [
    "Let's check how far is our farthest object:"
   ]
  },
  {
   "cell_type": "code",
   "execution_count": null,
   "id": "8abb6b73-353b-4439-9773-3215ff012dd0",
   "metadata": {},
   "outputs": [],
   "source": [
    "max(data['dm'])"
   ]
  },
  {
   "attachments": {
    "9103b696-950d-4880-bb00-6f0ed2baad7d.png": {
     "image/png": "[encoded data removed]"
    }
   },
   "cell_type": "raw",
   "id": "dd7eaf79-05ef-4ace-b568-097423ed0d50",
   "metadata": {},
   "source": [
    "One thing to bear in mind is that the relationship between redshift and comoving distance is not linear:"
   ]
  },
  {
   "cell_type": "markdown",
   "id": "c383e328-f824-43a2-9375-fb13cb6b307b",
   "metadata": {},
   "source": [
    "redshift-dm.png (with images, notebook is to big to display on GitHub. Check reference plots at the end of the notebook.)\n",
    "\n",
    "Relationship between comoving distance and the redshift (by the author)"
   ]
  },
  {
   "cell_type": "markdown",
   "id": "c8e50b1e-9549-4d2b-a8d8-b1c5c4c8e2ad",
   "metadata": {},
   "source": [
    "Which means that the distance from Milky Way to the galaxies at redshift 1 is greater than from galaxies at redshift 1 to redshift 2, and so on."
   ]
  },
  {
   "cell_type": "markdown",
   "id": "32be1648-5368-4814-af44-8f50815eba7e",
   "metadata": {},
   "source": [
    "## Getting 3d coordinates"
   ]
  },
  {
   "cell_type": "markdown",
   "id": "1cf9e6ee-7080-467c-8a9c-01241cabbef7",
   "metadata": {},
   "source": [
    "To visualize our data in 3D, we will need to convert right ascension, declination, and distance from spherical coordinates to coordinates in Euclidean space.\n",
    "\n",
    "We will apply a simple formula[20] to do that:\n",
    "\n",
    "x = distance * cos(declination) * cos(right ascension)\n",
    "\n",
    "y = distance * cos(declination) * sin(right ascension)\n",
    "\n",
    "z = distance * sin(declination)\n",
    "\n",
    "Let’s apply it:"
   ]
  },
  {
   "cell_type": "code",
   "execution_count": null,
   "id": "d873c7e0-e1ab-4d7a-a202-d0ff1dc96dce",
   "metadata": {},
   "outputs": [],
   "source": [
    "data['x'] = data['dm'] * \\\n",
    "            np.cos(np.radians(data['de2000'])) * \\\n",
    "            np.cos(np.radians(data['al2000'] * 15))\n",
    "data['y'] = data['dm'] * \\\n",
    "            np.cos(np.radians(data['de2000'])) * \\\n",
    "            np.sin(np.radians(data['al2000'] * 15))\n",
    "data['z'] = data['dm'] * np.sin(np.radians(data['de2000']))"
   ]
  },
  {
   "cell_type": "markdown",
   "id": "65245b5e-59a5-48bd-9fdf-379c54e8b4dd",
   "metadata": {},
   "source": [
    "The coordinates in this process inherit the data type from comoving distance, becoming ‘distance’ themselves. Since ‘distance’ can’t be negative, we will have to convert them to normal values."
   ]
  },
  {
   "cell_type": "code",
   "execution_count": null,
   "id": "a05acf4a-4eab-439e-ac84-352d52da3d92",
   "metadata": {},
   "outputs": [],
   "source": [
    "data['x'] = data['x'].value\n",
    "data['y'] = data['y'].value\n",
    "data['z'] = data['z'].value"
   ]
  },
  {
   "cell_type": "markdown",
   "id": "02c7acb9-c966-46bb-be84-b5c133a181cb",
   "metadata": {},
   "source": [
    "## Adding the Milky Way galaxy"
   ]
  },
  {
   "cell_type": "markdown",
   "id": "6eafb1d4-01ae-4549-8f54-0a3c325a8cc6",
   "metadata": {},
   "source": [
    "HyperLeda is an extragalactic database, so we shouldn’t expect our home galaxy to be in there. To visualize our local group in the future, we may want to add the Milky Way to our data:"
   ]
  },
  {
   "cell_type": "code",
   "execution_count": null,
   "id": "9142f830-d3a4-4cc2-adaa-80ee1948dd66",
   "metadata": {},
   "outputs": [],
   "source": [
    "mw = {'pgc': [0], \n",
    "      'objname': ['milkyway'], \n",
    "      'objtype': ['G'], \n",
    "      't': [3], \n",
    "      'type': ['SBb'], \n",
    "      'bar': ['B'], \n",
    "      'ring': [np.NaN], \n",
    "      'al2000': [0],\n",
    "      'de2000': [0], \n",
    "      'v': [0], \n",
    "      'modbest': [0], \n",
    "      'mod0': [0], \n",
    "      'l2': [0], \n",
    "      'b2': [0], \n",
    "      'sgl': [0], \n",
    "      'sgb': [0],\n",
    "      'redshift': [0], \n",
    "      'dm': [0] * u.Glyr, \n",
    "      'x': [0],\n",
    "      'y': [0],\n",
    "      'z': [0],\n",
    "     }\n",
    "\n",
    "mw = astropy.table.QTable(mw)\n",
    "\n",
    "mw['ring'] = mw['ring'].astype(str)\n",
    "\n",
    "# Appending Milky Way dataframe to our data\n",
    "data = astropy.table.vstack([data, mw])"
   ]
  },
  {
   "cell_type": "markdown",
   "id": "a06d4d64-3568-4d01-9cf2-7b8351a45e23",
   "metadata": {},
   "source": [
    "With this, our data is ready. For now."
   ]
  },
  {
   "cell_type": "markdown",
   "id": "8b1578ef-b6af-44d6-bde7-ed9e240e08f2",
   "metadata": {},
   "source": [
    "Let's save it. To save ourselves some space (and time), we will save it as a parquet file. For that, you will need either a pyarrow library or a fastparquet."
   ]
  },
  {
   "cell_type": "code",
   "execution_count": null,
   "id": "f9f0043a-1a85-444b-a697-51ce56a0484c",
   "metadata": {},
   "outputs": [],
   "source": [
    "data.write(\n",
    "    './data/data-vis-obj-univ.parquet', \n",
    "    format='parquet', \n",
    "    overwrite=True,\n",
    ")"
   ]
  },
  {
   "cell_type": "markdown",
   "id": "bf339565-93a8-48de-9289-634066dfbd15",
   "metadata": {},
   "source": [
    "Let’s take a quick look at the distance distribution in our data:"
   ]
  },
  {
   "cell_type": "code",
   "execution_count": null,
   "id": "2539a0dd-474d-4434-9775-8f81edac31fb",
   "metadata": {},
   "outputs": [],
   "source": [
    "# First, we need to load the matplotlib library...\n",
    "import matplotlib.pyplot as plt\n",
    "\n",
    "# ...and set the style we are going to use. \n",
    "plt.style.use('dark_background')\n",
    "\n",
    "plt.hist(data['dm'].value, bins=28)\n",
    "plt.xlabel('Distance')\n",
    "plt.ylabel('Frequency')\n",
    "plt.title('Distribution of Distances')\n",
    "plt.savefig('./plots/distance-distribution.png', dpi=300)\n",
    "plt.show()"
   ]
  },
  {
   "cell_type": "markdown",
   "id": "0dc40c05-9e8c-4871-8c49-f5b4d022857d",
   "metadata": {},
   "source": [
    "Distribution of distances (by the author)"
   ]
  },
  {
   "cell_type": "markdown",
   "id": "108bc353-79a3-40da-9f46-02f989def5fc",
   "metadata": {},
   "source": [
    "## Visualizations 2D"
   ]
  },
  {
   "cell_type": "markdown",
   "id": "60ecfa4a-dfe2-4d98-85a1-8147aec907b0",
   "metadata": {},
   "source": [
    "Now, let’s do some visual exploring.\n",
    "\n",
    "We can start with all of our data points in supergalactic coordinates."
   ]
  },
  {
   "cell_type": "code",
   "execution_count": null,
   "id": "48e6a608-08d2-4273-a58e-e3e76c30a040",
   "metadata": {},
   "outputs": [],
   "source": [
    "gal = SkyCoord(\n",
    "    data['sgl'], \n",
    "    data['sgb'], \n",
    "    frame='supergalactic', \n",
    "    unit=u.deg,\n",
    ")\n",
    "\n",
    "fig = plt.figure(figsize=(20, 15))\n",
    "ax = fig.add_subplot(\n",
    "    111, \n",
    "    projection='aitoff', \n",
    "    label='galaxies',\n",
    ")\n",
    "\n",
    "ax.grid(alpha=0.5)\n",
    "\n",
    "img = ax.scatter(\n",
    "    gal.sgl.wrap_at('180d').radian, # it has to be in radians\n",
    "    gal.sgb.radian, \n",
    "    s=0.01,\n",
    "    c=data['dm'], \n",
    "    cmap=plt.cm.viridis_r, # reversed, as short distance dominate\n",
    "    alpha=None,\n",
    "    linestyle='None',\n",
    ");\n",
    "\n",
    "fig.colorbar(\n",
    "    img, \n",
    "    orientation ='horizontal', \n",
    "    aspect=55, \n",
    "    label='dm',\n",
    "    pad=0.07, \n",
    "    fraction=0.020,\n",
    ");\n",
    "\n",
    "plt.savefig('./plots/all-galaxies-2d.png', dpi=300)"
   ]
  },
  {
   "cell_type": "markdown",
   "id": "1e081398-d624-4be1-ac52-240ec3be063c",
   "metadata": {},
   "source": [
    "All the data (2.8 million galaxies) in the Aitoff Projection (by the author)"
   ]
  },
  {
   "cell_type": "markdown",
   "id": "32209020-71fb-4152-9149-8fc0298f31e8",
   "metadata": {},
   "source": [
    "Edges and the middle are dark, obscured by the Milky Way. Some parts are so dense, that in 2D representation we would need a much, much bigger picture to peer through it."
   ]
  },
  {
   "cell_type": "markdown",
   "id": "cc286024-123d-4c83-9c60-c86956c9f096",
   "metadata": {},
   "source": [
    "Or, a lot of smaller pictures. Or an animation:"
   ]
  },
  {
   "cell_type": "code",
   "execution_count": null,
   "id": "0334da91-c1f2-4206-9ff2-0f02e81322e4",
   "metadata": {},
   "outputs": [],
   "source": [
    "%%time\n",
    "\n",
    "import matplotlib.animation as animation\n",
    "from IPython.display import HTML\n",
    "\n",
    "# Create a new figure\n",
    "fig, ax = plt.subplots(\n",
    "    figsize=(20, 15), \n",
    "    subplot_kw={'projection': 'aitoff'},\n",
    ")\n",
    "\n",
    "def update(i):\n",
    "    # Clear the current plot\n",
    "    ax.cla()\n",
    "    ax.grid(alpha=0.5)\n",
    "\n",
    "    # Determine the dm range for this frame\n",
    "    if i < 19:\n",
    "        min_dm, max_dm = i * 0.5, (i + 1) * 0.5\n",
    "    else:\n",
    "        min_dm, max_dm = 9.5, 28\n",
    "\n",
    "    # Filter data\n",
    "    data_dm = data[\n",
    "        (data['dm'].value > min_dm) \n",
    "        & (data['dm'].value <= max_dm)\n",
    "    ]\n",
    "    \n",
    "    # Create scatter plot\n",
    "    gal = SkyCoord(\n",
    "        data_dm['sgl'], \n",
    "        data_dm['sgb'], \n",
    "        frame='supergalactic', \n",
    "        unit=u.deg,\n",
    "    )\n",
    "    img = ax.scatter(\n",
    "        gal.sgl.wrap_at('180d').radian, \n",
    "        gal.sgb.radian, \n",
    "        s=0.01,\n",
    "        c=data_dm['dm'], \n",
    "        cmap=plt.cm.viridis_r,\n",
    "        alpha=None,\n",
    "        linestyle='None',\n",
    "    )\n",
    "    \n",
    "    # Set the title\n",
    "    ax.set_title(\n",
    "        f'Distance Range: {min_dm} - {max_dm} billion lightyears'\n",
    "    )\n",
    "\n",
    "    return img,\n",
    "\n",
    "# Create the animation\n",
    "ani = animation.FuncAnimation(\n",
    "    fig, \n",
    "    update,\n",
    "    frames=range(20), \n",
    "    interval=2000, \n",
    "    blit=True,\n",
    ")\n",
    "\n",
    "# Save the animation\n",
    "ani.save('./plots/animation-2d.gif', writer='pillow')\n",
    "\n",
    "# Close the figure\n",
    "plt.close(fig)"
   ]
  },
  {
   "cell_type": "markdown",
   "id": "7f0557de-d990-452c-a589-09cde755f83b",
   "metadata": {},
   "source": [
    "animation-2d.gif (with animations, notebook is to big to display on GitHub.)"
   ]
  },
  {
   "cell_type": "markdown",
   "id": "b50ae3ad-0bf5-4a57-996e-e0e2f7f21b99",
   "metadata": {},
   "source": [
    "Animation showing galaxies in supergalactic frame on Aitoff Projection at different distance ranges (by the author)"
   ]
  },
  {
   "cell_type": "markdown",
   "id": "3b386fa5-9c70-4d0c-92a8-1716ce899d57",
   "metadata": {},
   "source": [
    "## Visualizations 3D"
   ]
  },
  {
   "cell_type": "markdown",
   "id": "c3fc3209-c818-40ac-af41-afcffbb6c602",
   "metadata": {},
   "source": [
    "Let's see this in 3d."
   ]
  },
  {
   "cell_type": "code",
   "execution_count": null,
   "id": "632299c2-2386-4c94-ac48-6796e8e5762e",
   "metadata": {},
   "outputs": [],
   "source": [
    "# Setting some 3D options for clarity of the image\n",
    "\n",
    "def set_3d_plot_options(ax):\n",
    "    ax.xaxis.pane.fill = False\n",
    "    ax.yaxis.pane.fill = False\n",
    "    ax.zaxis.pane.fill = False\n",
    "    \n",
    "    ax.xaxis.pane.set_edgecolor('w')\n",
    "    ax.yaxis.pane.set_edgecolor('w')\n",
    "    ax.zaxis.pane.set_edgecolor('w')\n",
    "\n",
    "    ax.grid(False)"
   ]
  },
  {
   "cell_type": "code",
   "execution_count": null,
   "id": "fb361648-71b6-499a-b6d9-3fa190f81554",
   "metadata": {},
   "outputs": [],
   "source": [
    "fig = plt.figure(figsize = (20,20))\n",
    "ax = plt.axes(projection='3d')\n",
    "\n",
    "set_3d_plot_options(ax)\n",
    "    \n",
    "ax.scatter3D(\n",
    "    data['x'], \n",
    "    data['y'], \n",
    "    data['z'], \n",
    "    s=0.1, \n",
    "    c='white', \n",
    "    alpha=None,\n",
    ");\n",
    "\n",
    "plt.savefig('./plots/all-galaxies-3d.png', dpi=300)"
   ]
  },
  {
   "cell_type": "markdown",
   "id": "ff4e8a6c-96ad-416c-b215-be7cc30ca295",
   "metadata": {},
   "source": [
    "All the data (2.8 million galaxies) in 3D Projection (by the author)"
   ]
  },
  {
   "cell_type": "markdown",
   "id": "f81312e5-b0f5-4c85-b1cb-4ecbcec47a3d",
   "metadata": {},
   "source": [
    "This is the expanse of our data. 2,868,898 confirmed galaxies in the HyperLeda database.\n",
    "\n",
    "You can see the specific dent in this otherwise quite homogeneous structure. This is the before-mentioned \"zone of avoidance\" - where the Milky Way, our galaxy, obscures our view. Whatever we know about the galaxies from this region of the sky, doesn't come in visible spectrum.\n",
    "\n",
    "Noticeable in this image are long lines of galaxies, going back straight to the middle of the plot (Earth). They are called \"fingers of God\", and are a known issue when using only redshift as a measure of distance. It is a distortion of view caused by gravity affecting the redshifts and apparent density of galaxies in clusters[21]. With only 4039 redshift-independent measurements, we will have to live with the \"fingers\" here."
   ]
  },
  {
   "cell_type": "markdown",
   "id": "16a3deb1-64b2-4b30-ba2c-e4f841b739ed",
   "metadata": {},
   "source": [
    "# A closer look"
   ]
  },
  {
   "cell_type": "markdown",
   "id": "f17f3cf4-fe58-480f-904f-a6e432931229",
   "metadata": {},
   "source": [
    "Using this data, we can take a closer look and witness the structure emerging from homogeneity, as we move from the edge toward the center of the observable universe:"
   ]
  },
  {
   "cell_type": "code",
   "execution_count": null,
   "id": "a4ce44cf-9a1f-4bd8-990f-7a200c3b3872",
   "metadata": {},
   "outputs": [],
   "source": [
    "%%time\n",
    "\n",
    "# A fair warning - running this takes about 37 mins\n",
    "\n",
    "max_dms = [x for x in np.arange(28, 0, -1)] + \\\n",
    "          [round(x, 1) for x in np.arange(0.9, 0, -0.1)]\n",
    "\n",
    "# Create a new figure\n",
    "fig = plt.figure(figsize = (20,20))\n",
    "ax = plt.axes(projection='3d')\n",
    "\n",
    "def update(max_dm):\n",
    "    # Clear the current plot\n",
    "    ax.cla()\n",
    "    ax.grid(alpha=0.5)\n",
    "\n",
    "    # Determine the dm range for this frame\n",
    "\n",
    "    # Filter data\n",
    "    data_dm = data[(data['dm'].value <= max_dm)]\n",
    "    \n",
    "    set_3d_plot_options(ax)\n",
    "\n",
    "    ax.scatter3D(\n",
    "        data_dm['x'], \n",
    "        data_dm['y'], \n",
    "        data_dm['z'], \n",
    "        s=0.1, \n",
    "        c='white', \n",
    "        alpha=None,\n",
    "    );\n",
    "\n",
    "    # Set the title\n",
    "    ax.set_title(\n",
    "        f'Observable Universe up to {max_dm} billion lightyears'\n",
    "    )\n",
    "\n",
    "    return img,\n",
    "\n",
    "# Create the animation\n",
    "ani = animation.FuncAnimation(\n",
    "    fig, \n",
    "    update, \n",
    "    frames=max_dms, \n",
    "    interval=2000, \n",
    "    blit=True,\n",
    ")\n",
    "\n",
    "# Save the animation\n",
    "ani.save('./plots/animation-3d.gif', writer='pillow')\n",
    "\n",
    "# Close the figure\n",
    "plt.close(fig)"
   ]
  },
  {
   "cell_type": "markdown",
   "id": "884766ce-5233-41f8-8c34-8a1d01f0954b",
   "metadata": {},
   "source": [
    "animation-3d.gif (with animations, notebook is to big to display on GitHub.)"
   ]
  },
  {
   "cell_type": "markdown",
   "id": "a53b7e00-5c9d-4b36-b942-03c88e140594",
   "metadata": {},
   "source": [
    "Animation of the observable universe in 3D at different distances (by the author)"
   ]
  },
  {
   "cell_type": "markdown",
   "id": "528483d8-f167-4894-9cc4-eb13ec81a337",
   "metadata": {},
   "source": [
    "At around 300 million lightyears we can observe the end of homogeneity of the galaxy distribution. It is an observational scale called 'The End of Greatness'[22]."
   ]
  },
  {
   "cell_type": "markdown",
   "id": "9a118c82-01d7-4a76-b67c-0110640a5f43",
   "metadata": {},
   "source": [
    "# Conclusion"
   ]
  },
  {
   "cell_type": "markdown",
   "id": "4bd621b5-b039-4bb2-b80a-293d36eddbd6",
   "metadata": {},
   "source": [
    "In this exercise, we've only scratched the surface of visualizing the observable universe. There is so much more that we can do with that data. We can use lookback distance and treat cosmology as a historical science. We can visualize galaxy types, show the galactic web and galaxy clusters in greater detail, visualize the local group… And it would also be just a start. But isn't it always the case, when talking about space?\n",
    "\n",
    "Thank you for reading."
   ]
  },
  {
   "cell_type": "markdown",
   "id": "0dadbab3-19be-4559-b7bd-fbe46dc528c4",
   "metadata": {},
   "source": [
    "# References & further reading"
   ]
  },
  {
   "cell_type": "markdown",
   "id": "3253a8e4-8bb8-4eb4-86ad-f485e9d53fef",
   "metadata": {},
   "source": [
    "Links to Wikipedia references are mostly self-explanatory.\n",
    "\n",
    "[1] The repo with the full notebook on GitHub: https://github.com/jan-niedospial/data-vis-obs-univ.\n",
    "\n",
    "[2] You can read more about the Euclid Mission here: https://www.esa.int/Science_Exploration/Space_Science/Euclid.\n",
    "\n",
    "[3] https://leda.univ-lyon1.fr/fullsql.html. At the time of this writing, I'm yet to find a reliable way to get all the data that we need from HyperLeda through API.\n",
    "\n",
    "[4] https://en.wikipedia.org/wiki/Hubble's_law.\n",
    "\n",
    "[5] You can read about that on Big Think: https://bigthink.com/hard-science/hubble-tension-cosmology-crisis/.\n",
    "\n",
    "Some of the great articles explaining Hubble tension consequences in simple terms: https://phys.org/news/2023-09-early-dark-energy-hubble-tension.amp by Brian Koberlein. There is also a great article on the topic by Ethan Siegel from 'Starts with the Bang' in Big Think, which explains the cosmic distance ladder very nicely: https://bigthink.com/starts-with-a-bang/hubble-tension-real-solution/. This interview: https://cerncourier.com/a/exploring-the-hubble-tension/ with Licia Verde talks more about the model dependency of different measurement methods.\n",
    "\n",
    "[6] You can read more about setting up cosmology parameters: https://docs.astropy.org/en/stable/cosmology/index.html.\n",
    "\n",
    "[7] More on distance modulus on HyperLeda docs: https://leda.univ-lyon1.fr/leda/param/modz.html.\n",
    "\n",
    "[8] https://en.wikipedia.org/wiki/Aitoff_projection.\n",
    "\n",
    "[9] https://en.wikipedia.org/wiki/Hammer_projection.\n",
    "\n",
    "[10] https://en.wikipedia.org/wiki/Mollweide_projection.\n",
    "\n",
    "[11] https://en.wikipedia.org/wiki/Supergalactic_coordinate_system.\n",
    "\n",
    "[12] https://en.wikipedia.org/wiki/Zone_of_Avoidance.\n",
    "\n",
    "[13] If you want to learn more, check this article on Wikipedia: https://en.wikipedia.org/wiki/Comoving_and_proper_distances.\n",
    "\n",
    "[14] If you want to learn more about cosmology, distances, and redshift by doing, there is a great cosmological calculator:  https://www.astro.ucla.edu/~wright/CosmoCalc.html, written by Ned Wright. You can experiment by inputting different Big Bang cosmological model parameters and choosing different types of the universe model, and you can see how much this can influence distances for any given redshift and see the relationships between different variables. This will help you understand how this all comes together from a theoretical perspective. There is also a Python version of this calculator, which can be easily converted into a function, so if you prefer something less out of the box than 'Astropy', you can use that. The calculator has a very nice glossary too: https://www.astro.ucla.edu/~wright/glossary.html#CC. The scientific paper accompanying it:\n",
    "Wright, E. L. (2006). A Cosmology Calculator for the World Wide Web. Publications of the Astronomical Society of the Pacific, 118(849), 1711. https://doi.org/10.1086/510102\n",
    "Finally, if you want to learn about the physics and math behind all of this, you can start by reading about Friedmann's equations: https://en.wikipedia.org/wiki/Friedmann_equations.\n",
    "\n",
    "[15] Velocity in HyperLeda docs: https://leda.univ-lyon1.fr/leda/param/v.html.\n",
    "\n",
    "[16] Redshift-independent distance modulus in HyperLeda docs: https://leda.univ-lyon1.fr/leda/param/mod0.html.\n",
    "\n",
    "[17] Modbest in HyperLeda docs: https://leda.univ-lyon1.fr/leda/param/modbest.html.\n",
    "\n",
    "[18] If you follow discoveries from the James Webb Space Telescope, you may have heard about galaxy JADES-GS-z13–0 with a redshift of z=13.1. Before James Webb, the highest confirmed redshift was GN-z11 with z=11.09 (after review from JWST it is z=10.6034). In HyperLeda, we don't have such distant objects (at least not with the necessary coordinates and velocity data). You can still add them if you like, e.g. the way we added the Milky Way.\n",
    "\n",
    "[19] If you want to know more about luminosity distance, or how to manually calculate distance from distance modulus, you can find it on the HyperLeda website: https://leda.univ-lyon1.fr/leda/param/modz.html.\n",
    "\n",
    "[20] You can find more about the coordinates equations here: https://en.wikipedia.org/wiki/Spherical_coordinate_system.\n",
    "\n",
    "[21] More on the Fingers of God effect here: https://en.wikipedia.org/wiki/Redshift-space_distortions.\n",
    "\n",
    "[22] More on the End of Greatness: https://en.wikipedia.org/wiki/Observable_universe#End_of_Greatness."
   ]
  },
  {
   "cell_type": "markdown",
   "id": "a3ae746e-2b1b-4fec-bbcd-491245c7d351",
   "metadata": {},
   "source": [
    "# Reference plots"
   ]
  },
  {
   "cell_type": "markdown",
   "id": "cc4f6b15-56e5-4343-8511-84508217065c",
   "metadata": {},
   "source": [
    "### Distance types comparison"
   ]
  },
  {
   "cell_type": "code",
   "execution_count": null,
   "id": "ee4bc7ac-1098-4b78-a969-0851566372dc",
   "metadata": {},
   "outputs": [],
   "source": [
    "from astropy.cosmology import FlatLambdaCDM\n",
    "\n",
    "cosmo = FlatLambdaCDM(name='HyperLeda', H0=70, Om0=0.27)\n",
    "\n",
    "from astropy.cosmology import WMAP9 as wmap9\n",
    "\n",
    "print(cosmo)\n",
    "print(wmap9)"
   ]
  },
  {
   "cell_type": "code",
   "execution_count": null,
   "id": "84718434-8d9f-4e17-87f4-7f6f1eff28bf",
   "metadata": {},
   "outputs": [],
   "source": [
    "cosmo.Ode0"
   ]
  },
  {
   "cell_type": "code",
   "execution_count": null,
   "id": "b632f3b6-6f1f-4b60-b620-a93eee036411",
   "metadata": {},
   "outputs": [],
   "source": [
    "import astropy.units as u\n",
    "\n",
    "redshift = 7\n",
    "\n",
    "print(cosmo.lookback_distance(redshift).to(u.Glyr))\n",
    "print(cosmo.comoving_distance(redshift).to(u.Glyr))\n",
    "print(cosmo.luminosity_distance(redshift).to(u.Glyr))\n"
   ]
  },
  {
   "cell_type": "markdown",
   "id": "3893018f-5173-4879-801c-eb3cac616c03",
   "metadata": {},
   "source": [
    "### Surface tension"
   ]
  },
  {
   "cell_type": "code",
   "execution_count": null,
   "id": "b58f9f70-2934-4077-851e-1afc05886aca",
   "metadata": {},
   "outputs": [],
   "source": [
    "candles = FlatLambdaCDM(name='HyperLeda', H0=73, Om0=0.3)\n",
    "cmb = FlatLambdaCDM(name='HyperLeda', H0=67.7, Om0=0.3)"
   ]
  },
  {
   "cell_type": "code",
   "execution_count": null,
   "id": "058b5bde-55a1-4d90-b3a5-0dfdb96f19df",
   "metadata": {},
   "outputs": [],
   "source": [
    "import pandas as pd\n",
    "\n",
    "cosmologies = pd.DataFrame({\n",
    "    'candles': [\n",
    "        candles.lookback_distance(redshift).to(u.Glyr), \n",
    "        candles.comoving_distance(redshift).to(u.Glyr), \n",
    "        candles.luminosity_distance(redshift).to(u.Glyr),\n",
    "    ],\n",
    "    'cmb': [\n",
    "    cmb.lookback_distance(redshift).to(u.Glyr),\n",
    "    cmb.comoving_distance(redshift).to(u.Glyr),\n",
    "    cmb.luminosity_distance(redshift).to(u.Glyr),\n",
    "    ],\n",
    "}, index=[\n",
    "    'lookback_distance', \n",
    "    'comoving_distance', \n",
    "    'luminosity_distance']\n",
    ")"
   ]
  },
  {
   "cell_type": "code",
   "execution_count": null,
   "id": "3e89dfc0-3dfd-4d51-8b30-10df8cfc37bf",
   "metadata": {},
   "outputs": [],
   "source": [
    "cosmologies"
   ]
  },
  {
   "cell_type": "code",
   "execution_count": null,
   "id": "fac61d67-8cd2-4b51-aad1-63f53964b984",
   "metadata": {},
   "outputs": [],
   "source": [
    "import astropy\n",
    "\n",
    "import astropy.coordinates as coord\n",
    "import astropy.units as u\n",
    "from astropy.io import ascii\n",
    "from astropy.coordinates import SkyCoord\n",
    "\n",
    "from astropy.cosmology import FlatLambdaCDM\n",
    "\n",
    "from astropy import constants as const # For speed of light\n",
    "\n",
    "import pandas as pd\n",
    "import numpy as np\n",
    "import matplotlib.pyplot as plt\n",
    "\n",
    "plt.style.use('dark_background')"
   ]
  },
  {
   "cell_type": "code",
   "execution_count": null,
   "id": "01868ea9-9e81-4ddb-8ca7-9929ddfbfdd8",
   "metadata": {},
   "outputs": [],
   "source": [
    "data = astropy.table.QTable.read(\n",
    "    './data/data-vis-obj-univ.parquet',\n",
    ")"
   ]
  },
  {
   "cell_type": "code",
   "execution_count": null,
   "id": "82532062-b665-4a0b-b60b-6c3d3cc306e7",
   "metadata": {},
   "outputs": [],
   "source": [
    "candles = FlatLambdaCDM(name='HyperLeda', H0=73, Om0=0.3)\n",
    "cmb = FlatLambdaCDM(name='HyperLeda', H0=67.7, Om0=0.3)\n",
    "\n",
    "data['dm_candles'] = candles.comoving_distance(data['redshift']).to(u.Glyr)\n",
    "data['dm_cmb'] = cmb.comoving_distance(data['redshift']).to(u.Glyr)\n",
    "\n",
    "data['tl_candles'] = candles.lookback_distance(data['redshift']).to(u.Glyr)\n",
    "data['tl_cmb'] = cmb.lookback_distance(data['redshift']).to(u.Glyr)\n",
    "\n"
   ]
  },
  {
   "cell_type": "code",
   "execution_count": null,
   "id": "80a219b8-b71a-4603-9774-497102d14d1a",
   "metadata": {},
   "outputs": [],
   "source": [
    "df = data.to_pandas()"
   ]
  },
  {
   "cell_type": "code",
   "execution_count": null,
   "id": "c0f426d9-b99c-46ff-9736-70ad181027d9",
   "metadata": {},
   "outputs": [],
   "source": [
    "import matplotlib.pyplot as plt\n",
    "from matplotlib.ticker import (MultipleLocator, AutoMinorLocator)\n",
    "\n",
    "# Create a figure and two subplots\n",
    "fig, ax = plt.subplots(1, 2, figsize=(15, 7.5), )\n",
    "\n",
    "bins = np.linspace(\n",
    "    df['redshift'].min(), \n",
    "    df['redshift'].max(), \n",
    "    num=100,\n",
    ")\n",
    "\n",
    "# Bin df and compute means and standard deviations\n",
    "df['bin'] = pd.cut(df['redshift'], bins=bins)\n",
    "bin_means = df.groupby('bin').mean(numeric_only=True)\n",
    "bin_stds = df.groupby('bin').std(numeric_only=True)\n",
    "\n",
    "# Plot means with error bars in the first subplot\n",
    "ax[0].errorbar(\n",
    "    x=bin_means['redshift'], \n",
    "    y=bin_means['dm_candles'], \n",
    "    label='Candles',\n",
    ")\n",
    "ax[0].errorbar(\n",
    "    x=bin_means['redshift'], \n",
    "    y=bin_means['dm_cmb'], \n",
    "    label='CMB',\n",
    ")\n",
    "ax[0].set_xlabel('Redshift', fontsize=12)\n",
    "ax[0].set_ylabel(\n",
    "    'Comoving Distance (in giga-lightyears)', \n",
    "    fontsize=12,\n",
    ")\n",
    "ax[0].yaxis.set_minor_locator(AutoMinorLocator())\n",
    "ax[0].tick_params(which='major', length=7)\n",
    "ax[0].tick_params(which='minor', length=4)\n",
    "for i in ax[0].get_yticklabels():\n",
    "    i.set_fontsize(12)\n",
    "for i in ax[0].get_xticklabels():\n",
    "    i.set_fontsize(12)\n",
    "ax[0].grid(alpha=0.3, which='both')\n",
    "ax[0].legend(fontsize=12)\n",
    "\n",
    "\n",
    "# Bin df and compute means and standard deviations\n",
    "df['bin'] = pd.cut(df['redshift'], bins=bins)\n",
    "bin_means = df.groupby('bin').mean(numeric_only=True)\n",
    "bin_stds = df.groupby('bin').std(numeric_only=True)\n",
    "\n",
    "# Plot means with error bars in the second subplot\n",
    "ax[1].errorbar(\n",
    "    x=bin_means['redshift'], \n",
    "    y=bin_means['tl_candles'], \n",
    "    label='Candles',\n",
    ")\n",
    "ax[1].errorbar(\n",
    "    x=bin_means['redshift'], \n",
    "    y=bin_means['tl_cmb'], \n",
    "    label='CMB',\n",
    ")\n",
    "ax[1].set_xlabel('Redshift', fontsize=12)\n",
    "ax[1].set_ylabel(\n",
    "    'Look Back Distance (in giga-lightyears)', \n",
    "    fontsize=12,\n",
    ")\n",
    "ax[1].yaxis.set_minor_locator(AutoMinorLocator(n=2))\n",
    "ax[1].tick_params(which='major', length=7)\n",
    "ax[1].tick_params(which='minor', length=4)\n",
    "for i in ax[1].get_yticklabels():\n",
    "    i.set_fontsize(12)\n",
    "for i in ax[1].get_xticklabels():\n",
    "    i.set_fontsize(12)\n",
    "ax[1].grid(alpha=0.3, which='both')\n",
    "ax[1].legend(fontsize=12)\n",
    "\n",
    "plt.tight_layout()\n",
    "\n",
    "plt.savefig('./plots/reference-plots/candles-vs-cmb.png')\n",
    "\n",
    "plt.show()"
   ]
  },
  {
   "cell_type": "markdown",
   "id": "cb41bfd7-a72c-40f0-8703-9de30f2a35e1",
   "metadata": {},
   "source": [
    "### Redshift vs comoving distance"
   ]
  },
  {
   "cell_type": "code",
   "execution_count": null,
   "id": "c7f33eb2-5d0f-4691-bf1a-15659dab9d37",
   "metadata": {},
   "outputs": [],
   "source": [
    "# First, we need to load the matplotlib library...\n",
    "\n",
    "import matplotlib.pyplot as plt\n",
    "\n",
    "# ...and set the style we are going to use. \n",
    "\n",
    "plt.style.use('dark_background')\n",
    "\n",
    "df = data[['redshift', 'dm']].to_pandas()\n",
    "\n",
    "bins = np.linspace(\n",
    "    df['redshift'].min(), \n",
    "    df['redshift'].max(), \n",
    "    num=100\n",
    ")\n",
    "\n",
    "# Bin df and compute means and standard deviations\n",
    "df['bin'] = pd.cut(df['redshift'], bins=bins)\n",
    "bin_means = df.groupby('bin').mean()\n",
    "bin_stds = df.groupby('bin').std()\n",
    "\n",
    "fig = plt.figure(figsize=(10, 8))\n",
    "\n",
    "# Plot means with error bars\n",
    "plt.errorbar(\n",
    "    x=bin_means['redshift'], \n",
    "    y=bin_means['dm'], \n",
    "    label='Redshift vs Comoving Distance',\n",
    ")\n",
    "#plt.axhline(y = 46.5, color = 'y', linestyle = '-', label='Particle Horizon')\n",
    "plt.xlabel('Redshift')\n",
    "plt.ylabel('Comoving Distance')\n",
    "plt.legend()\n",
    "\n",
    "plt.savefig('./plots/reference-plots/redshift-dm.png', dpi=300)\n",
    "\n",
    "plt.show()"
   ]
  },
  {
   "cell_type": "code",
   "execution_count": null,
   "id": "dff502e8-850e-4135-902e-895eacba9d3c",
   "metadata": {},
   "outputs": [],
   "source": [
    "data_05 = data[(data['dm'].value <= 0.5)]"
   ]
  },
  {
   "cell_type": "code",
   "execution_count": null,
   "id": "e62e67ed-4792-443c-af65-efd153c4e752",
   "metadata": {},
   "outputs": [],
   "source": [
    "gal = SkyCoord(\n",
    "    data_05['l2'], \n",
    "    data_05['b2'], \n",
    "    frame='galactic', \n",
    "    unit=u.deg,\n",
    ")\n",
    "\n",
    "fig = plt.figure(figsize=(20, 15))\n",
    "\n",
    "ax = fig.add_subplot(\n",
    "    111, \n",
    "    projection='aitoff', \n",
    "    label='galaxies',\n",
    ")\n",
    "\n",
    "ax.grid(alpha=0.5)\n",
    "\n",
    "img = ax.scatter(\n",
    "    gal.l.wrap_at('180d').radian, \n",
    "    gal.b.radian, \n",
    "    s=0.01,\n",
    "    c=data_05['dm'], \n",
    "    cmap=plt.cm.viridis,\n",
    "    alpha=None,\n",
    "    linestyle='None',\n",
    ");\n",
    "\n",
    "plt.savefig('./plots/reference-plots/galactic.png', dpi=300)"
   ]
  },
  {
   "cell_type": "code",
   "execution_count": null,
   "id": "d0ef0361-8fd5-4aa7-9a97-d8df9bba11a1",
   "metadata": {},
   "outputs": [],
   "source": [
    "gal = SkyCoord(data_05['sgl'], data_05['sgb'], frame='supergalactic', unit=u.deg)\n",
    "\n",
    "fig = plt.figure(figsize=(20, 15))\n",
    "\n",
    "ax = fig.add_subplot(\n",
    "    111, \n",
    "    projection='aitoff', \n",
    "    label='galaxies',\n",
    ")\n",
    "\n",
    "ax.grid(alpha=0.5)\n",
    "\n",
    "img = ax.scatter(\n",
    "    gal.sgl.wrap_at('180d').radian, \n",
    "    gal.sgb.radian, \n",
    "    s=0.01,\n",
    "    c=data_05['dm'], \n",
    "    cmap=plt.cm.viridis,\n",
    "    alpha=None,\n",
    "    linestyle='None',\n",
    ");\n",
    "\n",
    "\n",
    "plt.savefig('./plots/reference-plots/supergalactic.png', dpi=300)"
   ]
  }
 ],
 "metadata": {
  "kernelspec": {
   "display_name": "Python 3 (ipykernel)",
   "language": "python",
   "name": "python3"
  },
  "language_info": {
   "codemirror_mode": {
    "name": "ipython",
    "version": 3
   },
   "file_extension": ".py",
   "mimetype": "text/x-python",
   "name": "python",
   "nbconvert_exporter": "python",
   "pygments_lexer": "ipython3",
   "version": "3.10.7"
  }
 },
 "nbformat": 4,
 "nbformat_minor": 5
}
